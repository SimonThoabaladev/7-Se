{
  "cells": [
    {
      "cell_type": "markdown",
      "metadata": {
        "id": "view-in-github",
        "colab_type": "text"
      },
      "source": [
        "<a href=\"https://colab.research.google.com/github/SimonThoabaladev/7-Se/blob/main/7_ex_0106.ipynb\" target=\"_parent\"><img src=\"https://colab.research.google.com/assets/colab-badge.svg\" alt=\"Open In Colab\"/></a>"
      ]
    },
    {
      "cell_type": "markdown",
      "metadata": {
        "id": "A_BiUeXnix20"
      },
      "source": [
        "# Coding Exercise #0106"
      ]
    },
    {
      "cell_type": "markdown",
      "metadata": {
        "id": "h-pW3Maqix22"
      },
      "source": [
        "### 1. Transforming DataFrames:"
      ]
    },
    {
      "cell_type": "code",
      "execution_count": null,
      "metadata": {
        "id": "ZDinW51Lix22"
      },
      "outputs": [],
      "source": [
        "import pandas as pd\n",
        "import numpy as np\n",
        "import os"
      ]
    },
    {
      "cell_type": "code",
      "execution_count": null,
      "metadata": {
        "id": "jEJ3Z7blix23"
      },
      "outputs": [],
      "source": [
        "# Go to the directory where the data file is located.\n",
        "os.chdir(r'~~')                # Please, replace the path with your own."
      ]
    },
    {
      "cell_type": "code",
      "execution_count": null,
      "metadata": {
        "id": "f2BowqmBix24"
      },
      "outputs": [],
      "source": [
        "df = pd.read_csv('data_studentlist.csv', header='infer')"
      ]
    },
    {
      "cell_type": "code",
      "execution_count": null,
      "metadata": {
        "id": "SwG22YFPix24"
      },
      "outputs": [],
      "source": [
        "# Replace the columns (header).\n",
        "df.columns = ['NAME', 'GENDER' , 'AGE', 'GRADE', 'ABSENCE', 'BLOODTYPE', 'HEIGHT', 'WEIGHT']\n",
        "df.head(3)"
      ]
    },
    {
      "cell_type": "markdown",
      "metadata": {
        "id": "ohdb4jMMix24"
      },
      "source": [
        "#### 1.1. Adding and removing columns:"
      ]
    },
    {
      "cell_type": "code",
      "execution_count": null,
      "metadata": {
        "id": "hNzGvhUuix25"
      },
      "outputs": [],
      "source": [
        "df['BMI'] = 10000*df['WEIGHT']/df['HEIGHT']**2"
      ]
    },
    {
      "cell_type": "code",
      "execution_count": null,
      "metadata": {
        "id": "qWc5dPFJix25"
      },
      "outputs": [],
      "source": [
        "df.head(5)"
      ]
    },
    {
      "cell_type": "code",
      "execution_count": null,
      "metadata": {
        "id": "MeFDUFmnix25"
      },
      "outputs": [],
      "source": [
        "# drop() method removes a column. But it is just a 'view'.\n",
        "df.drop('BMI',axis=1)"
      ]
    },
    {
      "cell_type": "code",
      "execution_count": null,
      "metadata": {
        "id": "YxgTo6o5ix26"
      },
      "outputs": [],
      "source": [
        "# The 'drop' was not permanent,\n",
        "df.head(5)"
      ]
    },
    {
      "cell_type": "code",
      "execution_count": null,
      "metadata": {
        "id": "eopcSQ6Rix26"
      },
      "outputs": [],
      "source": [
        "# inplace=True makes the removal permanent.\n",
        "df.drop('BMI',axis=1,inplace=True)\n",
        "df.head(5)"
      ]
    },
    {
      "cell_type": "markdown",
      "metadata": {
        "id": "mWrbfYqaix26"
      },
      "source": [
        "#### 1.2. Merging DataFrames:"
      ]
    },
    {
      "cell_type": "code",
      "execution_count": null,
      "metadata": {
        "id": "d2xJFeH6ix26"
      },
      "outputs": [],
      "source": [
        "df_left = df.loc[:,['NAME','AGE','GENDER','GRADE','ABSENCE']]\n",
        "df_left_small = df_left.loc[:10,]\n",
        "df_left_small"
      ]
    },
    {
      "cell_type": "code",
      "execution_count": null,
      "metadata": {
        "id": "Uq_eWM5Eix27"
      },
      "outputs": [],
      "source": [
        "df_right = df.loc[:,['NAME','BLOODTYPE','WEIGHT','HEIGHT']]\n",
        "df_right_small = df_right.loc[7:,]\n",
        "df_right_small"
      ]
    },
    {
      "cell_type": "markdown",
      "metadata": {
        "id": "HDQJXpsVix27"
      },
      "source": [
        "Inner join:"
      ]
    },
    {
      "cell_type": "code",
      "execution_count": null,
      "metadata": {
        "id": "Dndg46GUix27"
      },
      "outputs": [],
      "source": [
        "pd.merge(df_left_small,df_right_small,left_on='NAME', right_on = 'NAME', how='inner')"
      ]
    },
    {
      "cell_type": "markdown",
      "metadata": {
        "id": "qyEtG_hXix27"
      },
      "source": [
        "Left join:"
      ]
    },
    {
      "cell_type": "code",
      "execution_count": null,
      "metadata": {
        "id": "R0Cf6-Tvix27"
      },
      "outputs": [],
      "source": [
        "pd.merge(df_left_small,df_right_small,left_on='NAME', right_on = 'NAME', how='left')"
      ]
    },
    {
      "cell_type": "markdown",
      "metadata": {
        "id": "aCE0fmQLix27"
      },
      "source": [
        "Right join:"
      ]
    },
    {
      "cell_type": "code",
      "execution_count": null,
      "metadata": {
        "id": "85e3FSL3ix27"
      },
      "outputs": [],
      "source": [
        "pd.merge(df_left_small,df_right_small,left_on='NAME', right_on = 'NAME', how='right')"
      ]
    },
    {
      "cell_type": "markdown",
      "metadata": {
        "id": "xeNwyNv0ix28"
      },
      "source": [
        "Full outer join:"
      ]
    },
    {
      "cell_type": "code",
      "execution_count": null,
      "metadata": {
        "id": "PBkvqmm6ix28"
      },
      "outputs": [],
      "source": [
        "pd.merge(df_left_small,df_right_small,left_on='NAME', right_on = 'NAME', how='outer')"
      ]
    },
    {
      "cell_type": "markdown",
      "metadata": {
        "id": "i9H8s72Mix28"
      },
      "source": [
        "#### 1.3. Binding DataFrames:"
      ]
    },
    {
      "cell_type": "markdown",
      "metadata": {
        "id": "P3H4HtC3ix28"
      },
      "source": [
        "Bind vertically matched by 'columns':"
      ]
    },
    {
      "cell_type": "code",
      "execution_count": null,
      "metadata": {
        "id": "1-yua03Tix28"
      },
      "outputs": [],
      "source": [
        "pd.concat([df_left_small,df_right_small],sort=True)"
      ]
    },
    {
      "cell_type": "markdown",
      "metadata": {
        "id": "zDCSDGNdix28"
      },
      "source": [
        "Bind horizontally matched by 'index':"
      ]
    },
    {
      "cell_type": "code",
      "execution_count": null,
      "metadata": {
        "id": "dX9Em9kKix28"
      },
      "outputs": [],
      "source": [
        "pd.concat([df_left_small,df_right_small],axis=1,sort=True)"
      ]
    },
    {
      "cell_type": "code",
      "execution_count": null,
      "metadata": {
        "id": "okaNZfliix28"
      },
      "outputs": [],
      "source": []
    }
  ],
  "metadata": {
    "kernelspec": {
      "display_name": "Python 3",
      "language": "python",
      "name": "python3"
    },
    "language_info": {
      "codemirror_mode": {
        "name": "ipython",
        "version": 3
      },
      "file_extension": ".py",
      "mimetype": "text/x-python",
      "name": "python",
      "nbconvert_exporter": "python",
      "pygments_lexer": "ipython3",
      "version": "3.8.8"
    },
    "colab": {
      "provenance": [],
      "include_colab_link": true
    }
  },
  "nbformat": 4,
  "nbformat_minor": 0
}