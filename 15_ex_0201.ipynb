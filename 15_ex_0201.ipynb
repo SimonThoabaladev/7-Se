{
  "cells": [
    {
      "cell_type": "markdown",
      "metadata": {
        "id": "view-in-github",
        "colab_type": "text"
      },
      "source": [
        "<a href=\"https://colab.research.google.com/github/SimonThoabaladev/7-Se/blob/main/15_ex_0201.ipynb\" target=\"_parent\"><img src=\"https://colab.research.google.com/assets/colab-badge.svg\" alt=\"Open In Colab\"/></a>"
      ]
    },
    {
      "cell_type": "markdown",
      "metadata": {
        "id": "DCRdqdt1z63x"
      },
      "source": [
        "## Coding Exercise #0201"
      ]
    },
    {
      "cell_type": "markdown",
      "metadata": {
        "id": "RLV2xUhbz63y"
      },
      "source": [
        "### 1. Discrete probability distribution:"
      ]
    },
    {
      "cell_type": "code",
      "execution_count": null,
      "metadata": {
        "id": "T9uRP930z63z"
      },
      "outputs": [],
      "source": [
        "import scipy.stats as st\n",
        "import matplotlib.pyplot as plt\n",
        "import numpy as np\n",
        "%matplotlib inline"
      ]
    },
    {
      "cell_type": "markdown",
      "metadata": {
        "id": "su0DxAJxz63z"
      },
      "source": [
        "#### 1.1. Binomial:"
      ]
    },
    {
      "cell_type": "code",
      "execution_count": null,
      "metadata": {
        "id": "QPzp6cDhz630"
      },
      "outputs": [],
      "source": [
        "# Sample size and the p parameter.\n",
        "n=10\n",
        "p=0.5"
      ]
    },
    {
      "cell_type": "code",
      "execution_count": null,
      "metadata": {
        "id": "8lxJi4CCz630",
        "outputId": "fbccbd87-d49e-4386-dd20-f87f502bfa9e"
      },
      "outputs": [
        {
          "data": {
            "text/plain": [
              "0.2460937500000002"
            ]
          },
          "execution_count": 3,
          "metadata": {},
          "output_type": "execute_result"
        }
      ],
      "source": [
        "# Probability distribution at x = 5.\n",
        "st.binom.pmf(5, n, p)"
      ]
    },
    {
      "cell_type": "code",
      "execution_count": null,
      "metadata": {
        "id": "WDDKiv8Oz630",
        "outputId": "d8eb67eb-cf3a-4028-e3b4-bc76876bf4d0"
      },
      "outputs": [
        {
          "data": {
            "text/plain": [
              "4.0"
            ]
          },
          "execution_count": 4,
          "metadata": {},
          "output_type": "execute_result"
        }
      ],
      "source": [
        "# Quantile at alpha = 0.3\n",
        "# More about quantiles in the Unit III.\n",
        "st.binom.ppf(0.3, n, p)"
      ]
    },
    {
      "cell_type": "code",
      "execution_count": null,
      "metadata": {
        "id": "vHe-ZGpEz631",
        "outputId": "2044f653-8ef6-45d9-8c0d-4f138519e8dc"
      },
      "outputs": [
        {
          "data": {
            "text/plain": [
              "0.623046875"
            ]
          },
          "execution_count": 5,
          "metadata": {},
          "output_type": "execute_result"
        }
      ],
      "source": [
        "# P(0 <= x <= 5)\n",
        "st.binom.cdf(5,n,p)"
      ]
    },
    {
      "cell_type": "code",
      "execution_count": null,
      "metadata": {
        "id": "l2hwyOyQz631",
        "outputId": "191dc8c4-7347-43a2-d855-7e79729add39"
      },
      "outputs": [
        {
          "data": {
            "text/plain": [
              "0.890625"
            ]
          },
          "execution_count": 6,
          "metadata": {},
          "output_type": "execute_result"
        }
      ],
      "source": [
        "# P(3 <= x <=7)\n",
        "st.binom.cdf(7,n,p)-st.binom.cdf(2,n,p)"
      ]
    },
    {
      "cell_type": "code",
      "execution_count": null,
      "metadata": {
        "id": "Ee_fwJNdz631",
        "outputId": "bdb35a63-c210-43de-dde4-45831e5a6591"
      },
      "outputs": [
        {
          "data": {
            "image/png": "[encoded data removed]",
            "text/plain": [
              "<Figure size 640x480 with 1 Axes>"
            ]
          },
          "metadata": {},
          "output_type": "display_data"
        }
      ],
      "source": [
        "# Visualizing the probability distribution.\n",
        "x=np.arange(0,11)\n",
        "plt.scatter(x, st.binom.pmf(x,n,p),color='red')\n",
        "plt.show()"
      ]
    },
    {
      "cell_type": "markdown",
      "metadata": {
        "id": "zaxm1iVIz632"
      },
      "source": [
        "#### 1.2. Poisson:"
      ]
    },
    {
      "cell_type": "code",
      "execution_count": null,
      "metadata": {
        "id": "-Z3ZDyiAz632"
      },
      "outputs": [],
      "source": [
        "# The lambda parameter.\n",
        "lamb = 6"
      ]
    },
    {
      "cell_type": "code",
      "execution_count": null,
      "metadata": {
        "id": "axESDdyez632",
        "outputId": "f6ff38ca-6c54-4a5c-d5f2-037f6ec8fc01"
      },
      "outputs": [
        {
          "data": {
            "text/plain": [
              "0.2706705664732254"
            ]
          },
          "execution_count": 9,
          "metadata": {},
          "output_type": "execute_result"
        }
      ],
      "source": [
        "# Probability distribution at x = 2.\n",
        "st.poisson.pmf(2,lamb)"
      ]
    },
    {
      "cell_type": "code",
      "execution_count": null,
      "metadata": {
        "id": "FSdXxtTkz632",
        "outputId": "9bf435c1-6180-4db0-e8ea-acb0604728e3"
      },
      "outputs": [
        {
          "data": {
            "text/plain": [
              "2.0"
            ]
          },
          "execution_count": 10,
          "metadata": {},
          "output_type": "execute_result"
        }
      ],
      "source": [
        "# Quantile at alpha = 0.5\n",
        "# More about quantiles in the Unit III.\n",
        "st.poisson.ppf(0.5,lamb)"
      ]
    },
    {
      "cell_type": "code",
      "execution_count": null,
      "metadata": {
        "id": "I0jHlM-Rz632",
        "outputId": "348594eb-2032-48e9-f260-553adf3cfb21"
      },
      "outputs": [
        {
          "data": {
            "text/plain": [
              "0.9834363915193856"
            ]
          },
          "execution_count": 11,
          "metadata": {},
          "output_type": "execute_result"
        }
      ],
      "source": [
        "# P(0 <= x <= 5)\n",
        "st.poisson.cdf(5,lamb)"
      ]
    },
    {
      "cell_type": "code",
      "execution_count": null,
      "metadata": {
        "id": "n-VUfiUbz633",
        "outputId": "41936bb5-6c29-44e9-b0d5-4457bfaf8c44"
      },
      "outputs": [
        {
          "data": {
            "text/plain": [
              "0.3222268648490779"
            ]
          },
          "execution_count": 12,
          "metadata": {},
          "output_type": "execute_result"
        }
      ],
      "source": [
        "# P(3 <= x <=7)\n",
        "st.poisson.cdf(7,lamb)-st.poisson.cdf(2,lamb)"
      ]
    },
    {
      "cell_type": "code",
      "execution_count": null,
      "metadata": {
        "id": "BqayYvLfz633",
        "outputId": "333ef193-2f83-497f-be87-48b67470c5af"
      },
      "outputs": [
        {
          "data": {
            "image/png": "[encoded data removed]",
            "text/plain": [
              "<Figure size 640x480 with 1 Axes>"
            ]
          },
          "metadata": {},
          "output_type": "display_data"
        }
      ],
      "source": [
        "# Visualizing the probability distribution.\n",
        "x=np.arange(0,11)\n",
        "plt.scatter(x, st.poisson.pmf(x,lamb),color='green')\n",
        "plt.show()"
      ]
    },
    {
      "cell_type": "code",
      "execution_count": null,
      "metadata": {
        "id": "JMAbeObZz633"
      },
      "outputs": [],
      "source": []
    }
  ],
  "metadata": {
    "kernelspec": {
      "display_name": "Python 3 (ipykernel)",
      "language": "python",
      "name": "python3"
    },
    "language_info": {
      "codemirror_mode": {
        "name": "ipython",
        "version": 3
      },
      "file_extension": ".py",
      "mimetype": "text/x-python",
      "name": "python",
      "nbconvert_exporter": "python",
      "pygments_lexer": "ipython3",
      "version": "3.11.7"
    },
    "colab": {
      "provenance": [],
      "include_colab_link": true
    }
  },
  "nbformat": 4,
  "nbformat_minor": 0
}