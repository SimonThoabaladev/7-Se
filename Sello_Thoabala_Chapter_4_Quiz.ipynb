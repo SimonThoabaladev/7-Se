{
  "cells": [
    {
      "cell_type": "markdown",
      "metadata": {
        "id": "view-in-github",
        "colab_type": "text"
      },
      "source": [
        "<a href=\"https://colab.research.google.com/github/SimonThoabaladev/7-Se/blob/main/Sello_Thoabala_Chapter_4_Quiz.ipynb\" target=\"_parent\"><img src=\"https://colab.research.google.com/assets/colab-badge.svg\" alt=\"Open In Colab\"/></a>"
      ]
    },
    {
      "cell_type": "code",
      "execution_count": null,
      "id": "65628cdf-e8bb-416d-b567-46f35b704e03",
      "metadata": {
        "id": "65628cdf-e8bb-416d-b567-46f35b704e03"
      },
      "outputs": [],
      "source": [
        "# Q 1\n",
        "1.\tWhat is not correct as an interpretation of the fit model in the following statistical analysis?\n",
        "\n",
        "3. If the significance probability p is greater than the\n",
        "significance level α (p > α), the null hypothesis is rejected and the alternative hypothesis is adopted."
      ]
    },
    {
      "cell_type": "code",
      "execution_count": null,
      "id": "4aac5359-99f0-4c3d-b065-132060b9f528",
      "metadata": {
        "id": "4aac5359-99f0-4c3d-b065-132060b9f528"
      },
      "outputs": [],
      "source": [
        "# Q 2\n",
        "\n",
        "2.\tAssuming I get married and have three children, assuming that the random variable X is the number of sons,\n",
        "what is the probability, mean, and variance of having two sons in this case?\n",
        "(In this case, the probability of having a son and daughter is assumed to be the same.)\n",
        "\n",
        "Probability = 0.3750\n",
        "Mean = 1.5\n",
        "Variance = 0.75"
      ]
    },
    {
      "cell_type": "code",
      "execution_count": null,
      "id": "db098604-4339-4e73-9471-3aac582488c1",
      "metadata": {
        "id": "db098604-4339-4e73-9471-3aac582488c1"
      },
      "outputs": [],
      "source": [
        "# Q 3\n",
        "\n",
        "Two (2) is the correct answer based on standard expression"
      ]
    },
    {
      "cell_type": "code",
      "execution_count": null,
      "id": "5ea69ea6-717c-42e1-9e42-fcc84e0dfe5d",
      "metadata": {
        "id": "5ea69ea6-717c-42e1-9e42-fcc84e0dfe5d"
      },
      "outputs": [],
      "source": [
        "# Q 4\n",
        "4.\tIf a sample of 100 people was selected to find out whether satisfaction with two\n",
        "subjects differed according to gender, which statistic would be the most appropriate in this case?\n",
        "\n",
        "Answer\n",
        "2. is the correct answer"
      ]
    },
    {
      "cell_type": "code",
      "execution_count": null,
      "id": "aefb4178-7188-4faf-aba2-8820980ca165",
      "metadata": {
        "id": "aefb4178-7188-4faf-aba2-8820980ca165",
        "outputId": "bdbf94ff-6145-4ea8-d510-b964dea5b639"
      },
      "outputs": [
        {
          "name": "stdout",
          "output_type": "stream",
          "text": [
            "95% confidence interval: (79.41201080463799, 80.58798919536201) (79.41201080463799, 80.58798919536201)\n"
          ]
        }
      ],
      "source": [
        "# Q 5\n",
        "import scipy.stats as stats\n",
        "\n",
        "X = 80\n",
        "o = 3\n",
        "n = 100\n",
        "confidence = 0.95\n",
        "\n",
        "z_critical = stats.norm.ppf(1 - (1 - confidence)/2)\n",
        "margin_error = z_critical * (o / (n ** 0.5))\n",
        "ci = (X - margin_error, X + margin_error)\n",
        "\n",
        "print(\"95% confidence interval:\", ci, ci)"
      ]
    },
    {
      "cell_type": "code",
      "execution_count": null,
      "id": "e56492c2-8620-455a-9c05-c42b55da3f48",
      "metadata": {
        "id": "e56492c2-8620-455a-9c05-c42b55da3f48"
      },
      "outputs": [],
      "source": [
        "# Q 6\n",
        "\n",
        "6.\tFind the feature that is the most correlated with the target using the code below.\n",
        "\n",
        "\n",
        "import numpy as np\n",
        "import pandas as pd\n",
        "from sklearn. datasets import load_breast_cancer\n",
        "\n",
        "# load data.\n",
        "data = load_breast_cancer()\n",
        "# make dataFrame\n",
        "df = pd.DataFrame(data.data, columns=[data.feature_names])\n",
        "df = assign(target=pd.Series(1 - data.tagert))\n",
        "\n",
        "The feature that is most correlated with the target is totol of breast cancer patiance\n"
      ]
    },
    {
      "cell_type": "code",
      "execution_count": 8,
      "id": "b8a95133-c5d4-4ab1-8e40-15bd7c0a1315",
      "metadata": {
        "colab": {
          "base_uri": "https://localhost:8080/"
        },
        "id": "b8a95133-c5d4-4ab1-8e40-15bd7c0a1315",
        "outputId": "5fc8835c-2777-4b07-a81d-fbba8e5ca350"
      },
      "outputs": [
        {
          "output_type": "stream",
          "name": "stdout",
          "text": [
            "Enter City: Dallas\n",
            "Error fetching weather data: 404 Client Error: Not Found for url: https://weather.com/weather/today/l/dallas\n"
          ]
        }
      ],
      "source": [
        "import requests\n",
        "from bs4 import BeautifulSoup\n",
        "\n",
        "def get_weather(city):\n",
        "    # Format city name for URL (replace spaces with hyphens)\n",
        "    city_formatted = city.lower().replace(\" \", \"-\")\n",
        "    url = f\"https://weather.com/weather/today/l/{city_formatted}\"\n",
        "\n",
        "    headers = {\n",
        "        'User-Agent': 'Mozilla/5.0 (Windows NT 10.0; Win64; x64) AppleWebKit/537.36 (KHTML, like Gecko) Chrome/91.0.4472.124 Safari/537.36'\n",
        "    }\n",
        "\n",
        "    try:\n",
        "        response = requests.get(url, headers=headers)\n",
        "        response.raise_for_status()  # Raise an error for bad status codes\n",
        "        soup = BeautifulSoup(response.text, 'html.parser')\n",
        "\n",
        "        # Extract weather data\n",
        "        temperature = soup.find(\"span\", {\"data-testid\": \"TemperatureValue\"}).get_text(strip=True)\n",
        "        description = soup.find(\"div\", {\"data-testid\": \"wxPhrase\"}).get_text(strip=True)\n",
        "\n",
        "        print(f\"Weather in {city}:\")\n",
        "        print(f\"Temperature: {temperature}\")\n",
        "        print(f\"Condition: {description}\")\n",
        "\n",
        "    except requests.exceptions.RequestException as e:\n",
        "        print(f\"Error fetching weather data: {e}\")\n",
        "    except AttributeError:\n",
        "        print(\"City not found or weather data could not be retrieved\")\n",
        "\n",
        "city = input(\"Enter City: \")\n",
        "get_weather(city)"
      ]
    },
    {
      "cell_type": "code",
      "source": [],
      "metadata": {
        "id": "9ygX_tQTlbTx"
      },
      "id": "9ygX_tQTlbTx",
      "execution_count": null,
      "outputs": []
    }
  ],
  "metadata": {
    "kernelspec": {
      "display_name": "Python 3 (ipykernel)",
      "language": "python",
      "name": "python3"
    },
    "language_info": {
      "codemirror_mode": {
        "name": "ipython",
        "version": 3
      },
      "file_extension": ".py",
      "mimetype": "text/x-python",
      "name": "python",
      "nbconvert_exporter": "python",
      "pygments_lexer": "ipython3",
      "version": "3.11.7"
    },
    "colab": {
      "provenance": [],
      "include_colab_link": true
    }
  },
  "nbformat": 4,
  "nbformat_minor": 5
}