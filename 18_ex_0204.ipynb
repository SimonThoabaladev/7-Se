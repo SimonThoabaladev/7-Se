{
  "cells": [
    {
      "cell_type": "markdown",
      "metadata": {
        "id": "view-in-github",
        "colab_type": "text"
      },
      "source": [
        "<a href=\"https://colab.research.google.com/github/SimonThoabaladev/7-Se/blob/main/18_ex_0204.ipynb\" target=\"_parent\"><img src=\"https://colab.research.google.com/assets/colab-badge.svg\" alt=\"Open In Colab\"/></a>"
      ]
    },
    {
      "cell_type": "markdown",
      "metadata": {
        "id": "D2FGFI735lDn"
      },
      "source": [
        "## Coding Exercise #0204"
      ]
    },
    {
      "cell_type": "markdown",
      "metadata": {
        "id": "-gJUQbfu5lDo"
      },
      "source": [
        "### 1. Quantile:"
      ]
    },
    {
      "cell_type": "code",
      "execution_count": null,
      "metadata": {
        "id": "GVE_8w8C5lDp"
      },
      "outputs": [],
      "source": [
        "\n",
        "# Unit 3 122 and unit 3 121\n",
        "import scipy.stats as st\n",
        "import numpy as np"
      ]
    },
    {
      "cell_type": "markdown",
      "metadata": {
        "id": "R7raFbQG5lDp"
      },
      "source": [
        "#### 1.1. Standard Normal:"
      ]
    },
    {
      "cell_type": "code",
      "execution_count": null,
      "metadata": {
        "id": "c8azPZj_5lDq"
      },
      "outputs": [],
      "source": [
        "# Standard Normal corresponds to mu = 0 and sigma = 1.\n",
        "mu = 0\n",
        "sigma = 1"
      ]
    },
    {
      "cell_type": "code",
      "execution_count": null,
      "metadata": {
        "id": "OkeJ0HS35lDq",
        "outputId": "7fae377b-9c32-460b-eeb6-1ac55b7f9b4e"
      },
      "outputs": [
        {
          "data": {
            "text/plain": [
              "1.6448536269514722"
            ]
          },
          "execution_count": 3,
          "metadata": {},
          "output_type": "execute_result"
        }
      ],
      "source": [
        "# Quantile at alpha = 0.95\n",
        "# This is useful when calculating 90% confidence interval.\n",
        "alpha = 0.95\n",
        "st.norm.ppf(alpha, loc = mu , scale = sigma)"
      ]
    },
    {
      "cell_type": "code",
      "execution_count": null,
      "metadata": {
        "id": "H0boFjCt5lDr",
        "outputId": "61bd26d5-834c-463b-843f-5e54f194bf19"
      },
      "outputs": [
        {
          "data": {
            "text/plain": [
              "1.959963984540054"
            ]
          },
          "execution_count": 4,
          "metadata": {},
          "output_type": "execute_result"
        }
      ],
      "source": [
        "# Quantile at alpha = 0.975\n",
        "# This is useful when calculating 95% confidence interval.\n",
        "alpha = 0.975\n",
        "st.norm.ppf(alpha, loc = mu , scale = sigma)"
      ]
    },
    {
      "cell_type": "markdown",
      "metadata": {
        "id": "UgZz9It35lDr"
      },
      "source": [
        "#### 1.2. Student-t:"
      ]
    },
    {
      "cell_type": "code",
      "execution_count": null,
      "metadata": {
        "id": "fbaXT8L05lDr",
        "outputId": "49ae167b-9ee7-4689-94ce-6c3497e3e19a"
      },
      "outputs": [
        {
          "name": "stdout",
          "output_type": "stream",
          "text": [
            "Degree of Freedom =      10,  Quantile =   1.812461\n",
            "Degree of Freedom =      50,  Quantile =   1.675905\n",
            "Degree of Freedom =     100,  Quantile =   1.660234\n",
            "Degree of Freedom =    2000,  Quantile =   1.645616\n",
            "Degree of Freedom =  100000,  Quantile =   1.644869\n"
          ]
        }
      ],
      "source": [
        "# Quantiles at alpha = 0.95 with changing degree of freedom.\n",
        "alpha=0.95\n",
        "for df in [10,50,100,2000,100000]:\n",
        "    val = st.t.ppf(alpha,df)\n",
        "    print( 'Degree of Freedom = %7d,  Quantile = %10f' %(df,val))"
      ]
    },
    {
      "cell_type": "code",
      "execution_count": null,
      "metadata": {
        "id": "DTOhAlUV5lDs",
        "outputId": "01906ddf-835b-439a-e968-33e20a99418f"
      },
      "outputs": [
        {
          "name": "stdout",
          "output_type": "stream",
          "text": [
            "Degree of Freedom =      10,  Quantile =   2.228139\n",
            "Degree of Freedom =      50,  Quantile =   2.008559\n",
            "Degree of Freedom =     100,  Quantile =   1.983972\n",
            "Degree of Freedom =    2000,  Quantile =   1.961151\n",
            "Degree of Freedom =  100000,  Quantile =   1.959988\n"
          ]
        }
      ],
      "source": [
        "# Quantiles at alpha = 0.975 with changing degree of freedom.\n",
        "alpha=0.95\n",
        "alpha=0.975\n",
        "for df in [10,50,100,2000,100000]:\n",
        "    val = st.t.ppf(alpha,df)\n",
        "    print( 'Degree of Freedom = %7d,  Quantile = %10f' %(df,val))"
      ]
    },
    {
      "cell_type": "markdown",
      "metadata": {
        "id": "RRjMZVnE5lDs"
      },
      "source": [
        "#### 1.3. Chi-square:"
      ]
    },
    {
      "cell_type": "code",
      "execution_count": null,
      "metadata": {
        "id": "Bi7znmyc5lDs",
        "outputId": "cab0d316-c98a-442d-d7b9-29d0bb56a512"
      },
      "outputs": [
        {
          "data": {
            "text/plain": [
              "0.8437643724222779"
            ]
          },
          "execution_count": 7,
          "metadata": {},
          "output_type": "execute_result"
        }
      ],
      "source": [
        "# P(X <= 8) with degree of freedom = 5.\n",
        "df = 5\n",
        "st.chi2.cdf(8, df)"
      ]
    },
    {
      "cell_type": "code",
      "execution_count": null,
      "metadata": {
        "id": "hL5_7MLV5lDs",
        "outputId": "084f6200-1d6f-4e0b-c990-ff191c73a1a8"
      },
      "outputs": [
        {
          "data": {
            "text/plain": [
              "8.000000010482703"
            ]
          },
          "execution_count": 8,
          "metadata": {},
          "output_type": "execute_result"
        }
      ],
      "source": [
        "# Quantile at alpha = 0.843764373 with degree of freedom = 5\n",
        "df = 5\n",
        "alpha = 0.843764373\n",
        "st.chi2.ppf(alpha, df)"
      ]
    },
    {
      "cell_type": "markdown",
      "metadata": {
        "id": "9m43kyzM5lDs"
      },
      "source": [
        "*So, have verified that the Quantile is indeed an inverse function of the CDF.*"
      ]
    },
    {
      "cell_type": "code",
      "execution_count": null,
      "metadata": {
        "id": "8n7t88cX5lDt"
      },
      "outputs": [],
      "source": []
    }
  ],
  "metadata": {
    "kernelspec": {
      "display_name": "Python 3 (ipykernel)",
      "language": "python",
      "name": "python3"
    },
    "language_info": {
      "codemirror_mode": {
        "name": "ipython",
        "version": 3
      },
      "file_extension": ".py",
      "mimetype": "text/x-python",
      "name": "python",
      "nbconvert_exporter": "python",
      "pygments_lexer": "ipython3",
      "version": "3.11.7"
    },
    "colab": {
      "provenance": [],
      "include_colab_link": true
    }
  },
  "nbformat": 4,
  "nbformat_minor": 0
}