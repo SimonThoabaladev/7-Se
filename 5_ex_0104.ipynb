{
  "cells": [
    {
      "cell_type": "markdown",
      "metadata": {
        "id": "view-in-github",
        "colab_type": "text"
      },
      "source": [
        "<a href=\"https://colab.research.google.com/github/SimonThoabaladev/7-Se/blob/main/5_ex_0104.ipynb\" target=\"_parent\"><img src=\"https://colab.research.google.com/assets/colab-badge.svg\" alt=\"Open In Colab\"/></a>"
      ]
    },
    {
      "cell_type": "markdown",
      "metadata": {
        "id": "zAYwZra2iR9v"
      },
      "source": [
        "# Coding Exercise #0104"
      ]
    },
    {
      "cell_type": "markdown",
      "metadata": {
        "id": "zV_lgUHmiR9w"
      },
      "source": [
        "### 1. Pandas Series:"
      ]
    },
    {
      "cell_type": "code",
      "execution_count": null,
      "metadata": {
        "id": "vfIaVwc9iR9w"
      },
      "outputs": [],
      "source": [
        "import pandas as pd\n",
        "import numpy as np"
      ]
    },
    {
      "cell_type": "markdown",
      "metadata": {
        "id": "E7m7B0mAiR9w"
      },
      "source": [
        "#### 1.1. Creating Series objects:"
      ]
    },
    {
      "cell_type": "code",
      "execution_count": null,
      "metadata": {
        "id": "CuGSaNxPiR9x"
      },
      "outputs": [],
      "source": [
        "my_index = ['a','b','c']\n",
        "my_values = [222,333,444]\n",
        "my_dict = {'a':222, 'b':333, 'c':444}\n",
        "my_arr = np.array(my_values)"
      ]
    },
    {
      "cell_type": "code",
      "execution_count": null,
      "metadata": {
        "id": "xEn3LDqriR9x",
        "outputId": "9be43195-685c-47f7-fdd6-9d1d6d6f7c9d"
      },
      "outputs": [
        {
          "data": {
            "text/plain": [
              "0    222\n",
              "1    333\n",
              "2    444\n",
              "dtype: int64"
            ]
          },
          "execution_count": 3,
          "metadata": {},
          "output_type": "execute_result"
        }
      ],
      "source": [
        "# Series with values.\n",
        "pd.Series(my_values)"
      ]
    },
    {
      "cell_type": "code",
      "execution_count": null,
      "metadata": {
        "id": "G_tuFTV8iR9x",
        "outputId": "27e90c88-7b2e-447a-eff5-ee9424feec2e"
      },
      "outputs": [
        {
          "data": {
            "text/plain": [
              "a    222\n",
              "b    333\n",
              "c    444\n",
              "dtype: int64"
            ]
          },
          "execution_count": 4,
          "metadata": {},
          "output_type": "execute_result"
        }
      ],
      "source": [
        "# Series with values and index labels.\n",
        "pd.Series(data=my_values, index=my_index)"
      ]
    },
    {
      "cell_type": "code",
      "execution_count": null,
      "metadata": {
        "id": "JWgGIlJPiR9x",
        "outputId": "97367d34-53c8-4710-9568-347532336e67"
      },
      "outputs": [
        {
          "data": {
            "text/plain": [
              "0    222\n",
              "1    333\n",
              "2    444\n",
              "dtype: int64"
            ]
          },
          "execution_count": 5,
          "metadata": {},
          "output_type": "execute_result"
        }
      ],
      "source": [
        "# Series from a NumPy array.\n",
        "pd.Series(my_arr)"
      ]
    },
    {
      "cell_type": "code",
      "execution_count": null,
      "metadata": {
        "id": "XWEQ0jbWiR9y",
        "outputId": "5f3d6d64-b19a-4870-9575-1a32ecd57595"
      },
      "outputs": [
        {
          "data": {
            "text/plain": [
              "a    222\n",
              "b    333\n",
              "c    444\n",
              "dtype: int64"
            ]
          },
          "execution_count": 6,
          "metadata": {},
          "output_type": "execute_result"
        }
      ],
      "source": [
        "# Series from a NumPy array with index labels.\n",
        "pd.Series(my_arr, index=my_index)"
      ]
    },
    {
      "cell_type": "code",
      "execution_count": null,
      "metadata": {
        "id": "_-EJQB06iR9y",
        "outputId": "53d8e8b5-dea0-44f2-f7bb-ff5bb0545827"
      },
      "outputs": [
        {
          "data": {
            "text/plain": [
              "a    222\n",
              "b    333\n",
              "c    444\n",
              "dtype: int64"
            ]
          },
          "execution_count": 7,
          "metadata": {},
          "output_type": "execute_result"
        }
      ],
      "source": [
        "# Series from a dictionary.\n",
        "pd.Series(my_dict)"
      ]
    },
    {
      "cell_type": "markdown",
      "metadata": {
        "id": "q_vouKMyiR9y"
      },
      "source": [
        "#### 1.2. Series attributes and indexing:"
      ]
    },
    {
      "cell_type": "code",
      "execution_count": null,
      "metadata": {
        "id": "Wsofof6CiR9y",
        "outputId": "f6e0965f-2eb4-4725-8a64-076477b4e2ca"
      },
      "outputs": [
        {
          "data": {
            "text/plain": [
              "a    111\n",
              "b    222\n",
              "c    333\n",
              "d    444\n",
              "Name: MySeries, dtype: int64"
            ]
          },
          "execution_count": 8,
          "metadata": {},
          "output_type": "execute_result"
        }
      ],
      "source": [
        "s = pd.Series(data=[111,222,333,444], index = ['a','b','c','d'], name='MySeries')\n",
        "s"
      ]
    },
    {
      "cell_type": "markdown",
      "metadata": {
        "id": "K2Iv63K0iR9z"
      },
      "source": [
        "Series attributes:"
      ]
    },
    {
      "cell_type": "code",
      "execution_count": null,
      "metadata": {
        "id": "UbC58FabiR9z",
        "outputId": "e0445e01-98e9-4aab-ba41-aae7fe006795"
      },
      "outputs": [
        {
          "data": {
            "text/plain": [
              "Index(['a', 'b', 'c', 'd'], dtype='object')"
            ]
          },
          "execution_count": 9,
          "metadata": {},
          "output_type": "execute_result"
        }
      ],
      "source": [
        "s.index                                   # Index labels."
      ]
    },
    {
      "cell_type": "code",
      "execution_count": null,
      "metadata": {
        "id": "IE3c3jq8iR9z",
        "outputId": "4fcfd288-5973-4fcd-b3ed-f5198a05de82"
      },
      "outputs": [
        {
          "data": {
            "text/plain": [
              "'MySeries'"
            ]
          },
          "execution_count": 10,
          "metadata": {},
          "output_type": "execute_result"
        }
      ],
      "source": [
        "s.name                                    # Name attribute."
      ]
    },
    {
      "cell_type": "code",
      "execution_count": null,
      "metadata": {
        "id": "lR-8aiVAiR9z",
        "outputId": "271dfc0a-8e0c-4147-b8fb-24921df95178"
      },
      "outputs": [
        {
          "data": {
            "text/plain": [
              "dtype('int64')"
            ]
          },
          "execution_count": 11,
          "metadata": {},
          "output_type": "execute_result"
        }
      ],
      "source": [
        "s.dtype                                   # Data type."
      ]
    },
    {
      "cell_type": "code",
      "execution_count": null,
      "metadata": {
        "id": "Q3ypWidpiR9z",
        "outputId": "95d5bd25-fb71-4ded-bac9-e07a6fd790e4"
      },
      "outputs": [
        {
          "data": {
            "text/plain": [
              "array([111, 222, 333, 444])"
            ]
          },
          "execution_count": 12,
          "metadata": {},
          "output_type": "execute_result"
        }
      ],
      "source": [
        "s.values                                  # The values as NumPy array."
      ]
    },
    {
      "cell_type": "markdown",
      "metadata": {
        "id": "XqAqsMLpiR9z"
      },
      "source": [
        "Series indexing and slicing:"
      ]
    },
    {
      "cell_type": "code",
      "execution_count": null,
      "metadata": {
        "id": "WLdRRzyUiR90",
        "outputId": "fea07191-3380-4bf8-db4c-49873fdad6a8"
      },
      "outputs": [
        {
          "data": {
            "text/plain": [
              "222"
            ]
          },
          "execution_count": 13,
          "metadata": {},
          "output_type": "execute_result"
        }
      ],
      "source": [
        "s[1]"
      ]
    },
    {
      "cell_type": "code",
      "execution_count": null,
      "metadata": {
        "id": "HWlPl_92iR90",
        "outputId": "ea3e62b4-8143-4f65-c562-e019812bb068"
      },
      "outputs": [
        {
          "data": {
            "text/plain": [
              "111"
            ]
          },
          "execution_count": 14,
          "metadata": {},
          "output_type": "execute_result"
        }
      ],
      "source": [
        "s['a']"
      ]
    },
    {
      "cell_type": "code",
      "execution_count": null,
      "metadata": {
        "id": "3r5lGCpniR90",
        "outputId": "8cc23d22-5e3b-430c-db54-e28a6c57b071"
      },
      "outputs": [
        {
          "data": {
            "text/plain": [
              "c    333\n",
              "d    444\n",
              "Name: MySeries, dtype: int64"
            ]
          },
          "execution_count": 15,
          "metadata": {},
          "output_type": "execute_result"
        }
      ],
      "source": [
        "s[2:4]"
      ]
    },
    {
      "cell_type": "code",
      "execution_count": null,
      "metadata": {
        "id": "-5niL8VniR90",
        "outputId": "1dd09d9e-e8a2-4578-b2b1-db1b71da0cac"
      },
      "outputs": [
        {
          "data": {
            "text/plain": [
              "a    111\n",
              "d    444\n",
              "Name: MySeries, dtype: int64"
            ]
          },
          "execution_count": 16,
          "metadata": {},
          "output_type": "execute_result"
        }
      ],
      "source": [
        "s[['a','d']]"
      ]
    },
    {
      "cell_type": "markdown",
      "metadata": {
        "id": "vkQL6HmtiR90"
      },
      "source": [
        "#### 1.3. Series operations:"
      ]
    },
    {
      "cell_type": "code",
      "execution_count": null,
      "metadata": {
        "id": "8DVZziVviR90"
      },
      "outputs": [],
      "source": [
        "s1 = pd.Series(data=[1,2,3,4], index = ['d','b','c','a'])\n",
        "s2 = pd.Series(data=[1,2,3,4], index = ['a','b','d','e'])"
      ]
    },
    {
      "cell_type": "markdown",
      "metadata": {
        "id": "6MrO9EJZiR90"
      },
      "source": [
        "Please notice that in the Series to Series operations, the elements are matched by the index labels. <br>\n",
        "When there is no mathing index label, we get **NaN**."
      ]
    },
    {
      "cell_type": "code",
      "execution_count": null,
      "metadata": {
        "id": "eYH0azBSiR91",
        "outputId": "29d38708-757c-4c33-b3ec-f3e6833b70c1"
      },
      "outputs": [
        {
          "data": {
            "text/plain": [
              "a    5.0\n",
              "b    4.0\n",
              "c    NaN\n",
              "d    4.0\n",
              "e    NaN\n",
              "dtype: float64"
            ]
          },
          "execution_count": 18,
          "metadata": {},
          "output_type": "execute_result"
        }
      ],
      "source": [
        "s1 + s2"
      ]
    },
    {
      "cell_type": "code",
      "execution_count": null,
      "metadata": {
        "id": "FejIKDZHiR91",
        "outputId": "0a1a24bb-189d-40d9-afd8-67fe7b5657b4"
      },
      "outputs": [
        {
          "data": {
            "text/plain": [
              "a    3.0\n",
              "b    0.0\n",
              "c    NaN\n",
              "d   -2.0\n",
              "e    NaN\n",
              "dtype: float64"
            ]
          },
          "execution_count": 19,
          "metadata": {},
          "output_type": "execute_result"
        }
      ],
      "source": [
        "s1 - s2"
      ]
    },
    {
      "cell_type": "code",
      "execution_count": null,
      "metadata": {
        "id": "m0YHX88niR91",
        "outputId": "aae18c16-3342-4314-95f3-d4cf776470b4"
      },
      "outputs": [
        {
          "data": {
            "text/plain": [
              "a    4.0\n",
              "b    4.0\n",
              "c    NaN\n",
              "d    3.0\n",
              "e    NaN\n",
              "dtype: float64"
            ]
          },
          "execution_count": 20,
          "metadata": {},
          "output_type": "execute_result"
        }
      ],
      "source": [
        "s1 * s2"
      ]
    },
    {
      "cell_type": "code",
      "execution_count": null,
      "metadata": {
        "id": "d1c32gsniR91",
        "outputId": "45c4f928-893b-4732-bf79-b8d6944eef8a"
      },
      "outputs": [
        {
          "data": {
            "text/plain": [
              "a    4.000000\n",
              "b    1.000000\n",
              "c         NaN\n",
              "d    0.333333\n",
              "e         NaN\n",
              "dtype: float64"
            ]
          },
          "execution_count": 21,
          "metadata": {},
          "output_type": "execute_result"
        }
      ],
      "source": [
        "s1/s2"
      ]
    },
    {
      "cell_type": "code",
      "execution_count": null,
      "metadata": {
        "id": "KnYVeD9_iR91",
        "outputId": "70eba4ac-e9bd-4770-af3d-f7502be6548c"
      },
      "outputs": [
        {
          "data": {
            "text/plain": [
              "d    2\n",
              "b    4\n",
              "c    6\n",
              "a    8\n",
              "dtype: int64"
            ]
          },
          "execution_count": 22,
          "metadata": {},
          "output_type": "execute_result"
        }
      ],
      "source": [
        "2*s1"
      ]
    },
    {
      "cell_type": "markdown",
      "metadata": {
        "id": "DvJRWtCriR91"
      },
      "source": [
        "#### 1.4. Series methods:"
      ]
    },
    {
      "cell_type": "code",
      "execution_count": null,
      "metadata": {
        "id": "zU5tU_XxiR91",
        "outputId": "801d99ba-8008-4368-eeff-bf00ff1d3fdd"
      },
      "outputs": [
        {
          "data": {
            "text/plain": [
              "10"
            ]
          },
          "execution_count": 23,
          "metadata": {},
          "output_type": "execute_result"
        }
      ],
      "source": [
        "s1.sum()"
      ]
    },
    {
      "cell_type": "code",
      "execution_count": null,
      "metadata": {
        "id": "lJlg7IiKiR91",
        "outputId": "5fa2e10d-ed19-4907-cbdf-b8c9f7dbe846"
      },
      "outputs": [
        {
          "data": {
            "text/plain": [
              "2.5"
            ]
          },
          "execution_count": 24,
          "metadata": {},
          "output_type": "execute_result"
        }
      ],
      "source": [
        "s1.mean()"
      ]
    },
    {
      "cell_type": "code",
      "execution_count": null,
      "metadata": {
        "id": "4NWYMohEiR92",
        "outputId": "e3d07eef-c0ed-4d14-f4dd-368d4ba8540d"
      },
      "outputs": [
        {
          "data": {
            "text/plain": [
              "2.5"
            ]
          },
          "execution_count": 25,
          "metadata": {},
          "output_type": "execute_result"
        }
      ],
      "source": [
        "s1.median()"
      ]
    },
    {
      "cell_type": "code",
      "execution_count": null,
      "metadata": {
        "id": "hxIHyLjiiR92",
        "outputId": "aa7ef725-822c-4b88-c5b9-715e5e7f2200"
      },
      "outputs": [
        {
          "data": {
            "text/plain": [
              "4"
            ]
          },
          "execution_count": 26,
          "metadata": {},
          "output_type": "execute_result"
        }
      ],
      "source": [
        "s1.max()"
      ]
    },
    {
      "cell_type": "code",
      "execution_count": null,
      "metadata": {
        "id": "MuisdvRSiR92",
        "outputId": "4c7ee8bf-bf13-4e3d-8f0e-9b84f4eb6bae"
      },
      "outputs": [
        {
          "data": {
            "text/plain": [
              "1.2909944487358056"
            ]
          },
          "execution_count": 27,
          "metadata": {},
          "output_type": "execute_result"
        }
      ],
      "source": [
        "s1.std()"
      ]
    },
    {
      "cell_type": "code",
      "execution_count": null,
      "metadata": {
        "id": "SVc3hG6YiR92",
        "outputId": "36b856e9-7081-44f0-e057-d3e2459ebd68"
      },
      "outputs": [
        {
          "data": {
            "text/plain": [
              "d    1\n",
              "b    2\n",
              "c    3\n",
              "a    4\n",
              "dtype: int64"
            ]
          },
          "execution_count": 28,
          "metadata": {},
          "output_type": "execute_result"
        }
      ],
      "source": [
        "s1.sort_values()"
      ]
    },
    {
      "cell_type": "code",
      "execution_count": null,
      "metadata": {
        "id": "cpAwhtD0iR93",
        "outputId": "a532fa89-cbc5-4974-89a3-8dd23dca5ffb"
      },
      "outputs": [
        {
          "data": {
            "text/plain": [
              "a    4\n",
              "b    2\n",
              "c    3\n",
              "d    1\n",
              "dtype: int64"
            ]
          },
          "execution_count": 29,
          "metadata": {},
          "output_type": "execute_result"
        }
      ],
      "source": [
        "s1.sort_index()"
      ]
    },
    {
      "cell_type": "markdown",
      "metadata": {
        "id": "_BAqtU5LiR93"
      },
      "source": [
        "apply() method:"
      ]
    },
    {
      "cell_type": "code",
      "execution_count": null,
      "metadata": {
        "id": "hUZDK5hIiR93",
        "outputId": "2a8ef590-683f-4697-907d-e05265db6b40"
      },
      "outputs": [
        {
          "data": {
            "text/plain": [
              "0     165.3\n",
              "1     170.1\n",
              "2     175.0\n",
              "3     182.1\n",
              "4     168.0\n",
              "5     162.0\n",
              "6     155.2\n",
              "7     176.9\n",
              "8     178.5\n",
              "9     176.1\n",
              "10    167.1\n",
              "11    180.0\n",
              "12    162.2\n",
              "13    176.1\n",
              "14    158.2\n",
              "15    168.6\n",
              "16    169.2\n",
              "Name: height, dtype: float64"
            ]
          },
          "execution_count": 30,
          "metadata": {},
          "output_type": "execute_result"
        }
      ],
      "source": [
        "ser_height = pd.Series([165.3, 170.1, 175.0, 182.1, 168.0, 162.0, 155.2, 176.9, 178.5, 176.1,\n",
        "                        167.1, 180.0, 162.2, 176.1, 158.2, 168.6, 169.2],name='height')\n",
        "ser_height"
      ]
    },
    {
      "cell_type": "code",
      "execution_count": null,
      "metadata": {
        "id": "Rt0Af3-tiR93",
        "outputId": "32985bbc-cdd9-4fa6-d06d-baf089e7b961"
      },
      "outputs": [
        {
          "data": {
            "text/plain": [
              "0     1.653\n",
              "1     1.701\n",
              "2     1.750\n",
              "3     1.821\n",
              "4     1.680\n",
              "5     1.620\n",
              "6     1.552\n",
              "7     1.769\n",
              "8     1.785\n",
              "9     1.761\n",
              "10    1.671\n",
              "11    1.800\n",
              "12    1.622\n",
              "13    1.761\n",
              "14    1.582\n",
              "15    1.686\n",
              "16    1.692\n",
              "Name: height, dtype: float64"
            ]
          },
          "execution_count": 31,
          "metadata": {},
          "output_type": "execute_result"
        }
      ],
      "source": [
        "ser_height.apply(lambda x: x/100)"
      ]
    },
    {
      "cell_type": "code",
      "execution_count": null,
      "metadata": {
        "id": "YJp4reL_iR94"
      },
      "outputs": [],
      "source": [
        "# Add"
      ]
    },
    {
      "cell_type": "markdown",
      "metadata": {
        "id": "WxHA5huXiR94"
      },
      "source": [
        "Create a series of objects from Python dictionary objects."
      ]
    },
    {
      "cell_type": "code",
      "execution_count": null,
      "metadata": {
        "id": "li4c1M8EiR94",
        "outputId": "013e3553-72f1-42e8-d871-8b1b1602f394"
      },
      "outputs": [
        {
          "data": {
            "text/plain": [
              "Ohio      35000\n",
              "Texas     71000\n",
              "Oregon    16000\n",
              "Utah       5000\n",
              "dtype: int64"
            ]
          },
          "execution_count": 33,
          "metadata": {},
          "output_type": "execute_result"
        }
      ],
      "source": [
        "sdata = {'Ohio': 35000, 'Texas': 71000, 'Oregon': 16000, 'Utah': 5000}\n",
        "obj1 = pd.Series(sdata)\n",
        "obj1"
      ]
    },
    {
      "cell_type": "markdown",
      "metadata": {
        "id": "jsyMebTiiR94"
      },
      "source": [
        "When creating a series of objects with only dictionary objects, the key values of dictionaries enter in order. You can also index them yourself."
      ]
    },
    {
      "cell_type": "code",
      "execution_count": null,
      "metadata": {
        "id": "phgftCPdiR94",
        "outputId": "9a374b5c-f442-4c46-8d1f-68da29f38837"
      },
      "outputs": [
        {
          "data": {
            "text/plain": [
              "California        NaN\n",
              "Ohio          35000.0\n",
              "Oregon        16000.0\n",
              "Texas         71000.0\n",
              "dtype: float64"
            ]
          },
          "execution_count": 34,
          "metadata": {},
          "output_type": "execute_result"
        }
      ],
      "source": [
        "states = ['California', 'Ohio', 'Oregon', 'Texas']\n",
        "obj2 = pd.Series(sdata, index=states)\n",
        "obj2"
      ]
    },
    {
      "cell_type": "markdown",
      "metadata": {
        "id": "RZcr631ciR94"
      },
      "source": [
        "Only three of the values in sdata in this example can be checked, because the values for 'California' cannot be found. This value is denoted as NaN(not a number), and is treated as a missing value or NA value in pandas. 'Utah' is not included in the states, so it is excluded from the execution result."
      ]
    },
    {
      "cell_type": "markdown",
      "metadata": {
        "id": "zJQSymt2iR95"
      },
      "source": [
        "inull and notnull functions are used to find missing data."
      ]
    },
    {
      "cell_type": "code",
      "execution_count": null,
      "metadata": {
        "id": "1DBsC3BTiR95",
        "outputId": "f733a07b-943a-4d6c-f3f2-9c35c72836a9"
      },
      "outputs": [
        {
          "data": {
            "text/plain": [
              "California     True\n",
              "Ohio          False\n",
              "Oregon        False\n",
              "Texas         False\n",
              "dtype: bool"
            ]
          },
          "execution_count": 35,
          "metadata": {},
          "output_type": "execute_result"
        }
      ],
      "source": [
        "pd.isnull(obj2)"
      ]
    },
    {
      "cell_type": "code",
      "execution_count": null,
      "metadata": {
        "id": "_T19_hhViR95",
        "outputId": "5fe6f080-2b56-4fbb-8282-c30103aeaaf5"
      },
      "outputs": [
        {
          "data": {
            "text/plain": [
              "California    False\n",
              "Ohio           True\n",
              "Oregon         True\n",
              "Texas          True\n",
              "dtype: bool"
            ]
          },
          "execution_count": 36,
          "metadata": {},
          "output_type": "execute_result"
        }
      ],
      "source": [
        "pd.notnull(obj2)"
      ]
    },
    {
      "cell_type": "markdown",
      "metadata": {
        "id": "Jes7iHLmiR95"
      },
      "source": [
        "This method also exists as an instance method of the series."
      ]
    },
    {
      "cell_type": "code",
      "execution_count": null,
      "metadata": {
        "id": "I5KnJr2giR95",
        "outputId": "e87723ba-46ec-4f2f-c5b8-e4ce2c4a30bb"
      },
      "outputs": [
        {
          "data": {
            "text/plain": [
              "California     True\n",
              "Ohio          False\n",
              "Oregon        False\n",
              "Texas         False\n",
              "dtype: bool"
            ]
          },
          "execution_count": 37,
          "metadata": {},
          "output_type": "execute_result"
        }
      ],
      "source": [
        "obj2.isnull()"
      ]
    },
    {
      "cell_type": "markdown",
      "metadata": {
        "id": "e2lT36lViR95"
      },
      "source": [
        "A useful function of the series is automatic aligning with indeces and labels in arithmetic operations."
      ]
    },
    {
      "cell_type": "code",
      "execution_count": null,
      "metadata": {
        "id": "9SNLr6IgiR96",
        "outputId": "32753bca-6dfc-45b7-fc20-a14e00679d72"
      },
      "outputs": [
        {
          "data": {
            "text/plain": [
              "Ohio      35000\n",
              "Texas     71000\n",
              "Oregon    16000\n",
              "Utah       5000\n",
              "dtype: int64"
            ]
          },
          "execution_count": 38,
          "metadata": {},
          "output_type": "execute_result"
        }
      ],
      "source": [
        "obj1"
      ]
    },
    {
      "cell_type": "code",
      "execution_count": null,
      "metadata": {
        "id": "turDI4ADiR96",
        "outputId": "d3e5964f-b259-457c-c3a7-d0619c263126"
      },
      "outputs": [
        {
          "data": {
            "text/plain": [
              "California        NaN\n",
              "Ohio          35000.0\n",
              "Oregon        16000.0\n",
              "Texas         71000.0\n",
              "dtype: float64"
            ]
          },
          "execution_count": 39,
          "metadata": {},
          "output_type": "execute_result"
        }
      ],
      "source": [
        "obj2"
      ]
    },
    {
      "cell_type": "code",
      "execution_count": null,
      "metadata": {
        "id": "igrVsxIMiR96",
        "outputId": "1dee9afd-5ed7-4cdc-96b8-a41ae8d9e281"
      },
      "outputs": [
        {
          "data": {
            "text/plain": [
              "California         NaN\n",
              "Ohio           70000.0\n",
              "Oregon         32000.0\n",
              "Texas         142000.0\n",
              "Utah               NaN\n",
              "dtype: float64"
            ]
          },
          "execution_count": 40,
          "metadata": {},
          "output_type": "execute_result"
        }
      ],
      "source": [
        "obj1 + obj2"
      ]
    },
    {
      "cell_type": "markdown",
      "metadata": {
        "id": "YC_rUfMQiR96"
      },
      "source": [
        "Both the series object and the series index have a name attribute, which is closely related to the core function of pandas."
      ]
    },
    {
      "cell_type": "code",
      "execution_count": null,
      "metadata": {
        "id": "p-nN_mefiR96",
        "outputId": "037e31d5-72fe-4f64-a30a-97a6582be743"
      },
      "outputs": [
        {
          "data": {
            "text/plain": [
              "state\n",
              "California        NaN\n",
              "Ohio          35000.0\n",
              "Oregon        16000.0\n",
              "Texas         71000.0\n",
              "Name: population, dtype: float64"
            ]
          },
          "execution_count": 41,
          "metadata": {},
          "output_type": "execute_result"
        }
      ],
      "source": [
        "obj2.name = 'population'\n",
        "obj2.index.name = 'state'\n",
        "obj2"
      ]
    },
    {
      "cell_type": "markdown",
      "metadata": {
        "id": "y9d10ZtriR96"
      },
      "source": [
        "The index of the series can be changed through substitution."
      ]
    },
    {
      "cell_type": "code",
      "execution_count": null,
      "metadata": {
        "id": "JoPvxy2LiR97",
        "outputId": "5b223a33-1ebb-44a5-c611-62253e78c83a"
      },
      "outputs": [
        {
          "data": {
            "text/plain": [
              "Ohio      35000\n",
              "Texas     71000\n",
              "Oregon    16000\n",
              "Utah       5000\n",
              "dtype: int64"
            ]
          },
          "execution_count": 42,
          "metadata": {},
          "output_type": "execute_result"
        }
      ],
      "source": [
        "obj1"
      ]
    },
    {
      "cell_type": "code",
      "execution_count": null,
      "metadata": {
        "id": "2Ydm0mI9iR97",
        "outputId": "f2dc523c-e852-4f38-a556-6aec1c295618"
      },
      "outputs": [
        {
          "data": {
            "text/plain": [
              "Bob      35000\n",
              "Steve    71000\n",
              "Jeff     16000\n",
              "Ryan      5000\n",
              "dtype: int64"
            ]
          },
          "execution_count": 43,
          "metadata": {},
          "output_type": "execute_result"
        }
      ],
      "source": [
        "obj1.index = ['Bob', 'Steve', 'Jeff', 'Ryan']\n",
        "obj1"
      ]
    }
  ],
  "metadata": {
    "kernelspec": {
      "display_name": "Python 3 (ipykernel)",
      "language": "python",
      "name": "python3"
    },
    "language_info": {
      "codemirror_mode": {
        "name": "ipython",
        "version": 3
      },
      "file_extension": ".py",
      "mimetype": "text/x-python",
      "name": "python",
      "nbconvert_exporter": "python",
      "pygments_lexer": "ipython3",
      "version": "3.10.11"
    },
    "colab": {
      "provenance": [],
      "include_colab_link": true
    }
  },
  "nbformat": 4,
  "nbformat_minor": 0
}