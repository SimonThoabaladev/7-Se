{
  "cells": [
    {
      "cell_type": "markdown",
      "metadata": {
        "id": "view-in-github",
        "colab_type": "text"
      },
      "source": [
        "<a href=\"https://colab.research.google.com/github/SimonThoabaladev/7-Se/blob/main/3_ex_0103a.ipynb\" target=\"_parent\"><img src=\"https://colab.research.google.com/assets/colab-badge.svg\" alt=\"Open In Colab\"/></a>"
      ]
    },
    {
      "cell_type": "markdown",
      "metadata": {
        "id": "ChehZViFhwTn"
      },
      "source": [
        "Added to the existing codes"
      ]
    },
    {
      "cell_type": "code",
      "execution_count": null,
      "metadata": {
        "id": "cENqzAcghwTs"
      },
      "outputs": [],
      "source": [
        "import numpy as np"
      ]
    },
    {
      "cell_type": "code",
      "execution_count": null,
      "metadata": {
        "id": "o-zJoKVChwTt"
      },
      "outputs": [],
      "source": [
        "a = np.array([1, 2, 3, 4, 5])\t\t# A one dimensional NumPy array."
      ]
    },
    {
      "cell_type": "code",
      "execution_count": null,
      "metadata": {
        "id": "afgGy1NjhwTu",
        "outputId": "9f98c6f8-9548-4133-8d84-0ea625a7413b"
      },
      "outputs": [
        {
          "data": {
            "text/plain": [
              "array([1, 2])"
            ]
          },
          "execution_count": 3,
          "metadata": {},
          "output_type": "execute_result"
        }
      ],
      "source": [
        "a[:2]\t\t\t\t\t\t\t# From the index 0 up to the index 1 (excluding 2)."
      ]
    },
    {
      "cell_type": "code",
      "execution_count": null,
      "metadata": {
        "id": "YF4z9olfhwTv",
        "outputId": "8f8060be-2c5b-465e-ddcd-cc6d02b51547"
      },
      "outputs": [
        {
          "data": {
            "text/plain": [
              "5"
            ]
          },
          "execution_count": 4,
          "metadata": {},
          "output_type": "execute_result"
        }
      ],
      "source": [
        "a[-1]"
      ]
    },
    {
      "cell_type": "code",
      "execution_count": null,
      "metadata": {
        "id": "oc__NXnshwTw",
        "outputId": "de63c222-2840-46a2-b1cd-f9eb579fe1a2"
      },
      "outputs": [
        {
          "data": {
            "text/plain": [
              "array([1, 2, 3, 4, 5])"
            ]
          },
          "execution_count": 5,
          "metadata": {},
          "output_type": "execute_result"
        }
      ],
      "source": [
        "a[:]"
      ]
    },
    {
      "cell_type": "code",
      "execution_count": null,
      "metadata": {
        "id": "7VFth7UIhwTw"
      },
      "outputs": [],
      "source": [
        "a = np.array([[1, 2, 3], [4, 5, 6], [7, 8, 9]])\t# This is a 3 x 3 two dimensional array (matrix)."
      ]
    },
    {
      "cell_type": "code",
      "execution_count": null,
      "metadata": {
        "id": "3lSD2nKZhwTx",
        "outputId": "46a21e4c-a541-46ba-d4a7-1ac0b5ed7631"
      },
      "outputs": [
        {
          "data": {
            "text/plain": [
              "array([4, 5, 6])"
            ]
          },
          "execution_count": 7,
          "metadata": {},
          "output_type": "execute_result"
        }
      ],
      "source": [
        "a[1]\t\t\t\t# The row 1."
      ]
    },
    {
      "cell_type": "code",
      "execution_count": null,
      "metadata": {
        "id": "dy0ilFzohwTx",
        "outputId": "dcb768a3-fbdb-4999-cf82-63b3b675bb1b"
      },
      "outputs": [
        {
          "data": {
            "text/plain": [
              "array([7, 8, 9])"
            ]
          },
          "execution_count": 8,
          "metadata": {},
          "output_type": "execute_result"
        }
      ],
      "source": [
        "a[-1]\t\t\t\t# The last row."
      ]
    },
    {
      "cell_type": "code",
      "execution_count": null,
      "metadata": {
        "id": "KZjC8hWEhwTy",
        "outputId": "dc3c69bc-2a61-4288-e320-38d1211e98cb"
      },
      "outputs": [
        {
          "data": {
            "text/plain": [
              "array([[1, 2, 3],\n",
              "       [4, 5, 6],\n",
              "       [7, 8, 9]])"
            ]
          },
          "execution_count": 9,
          "metadata": {},
          "output_type": "execute_result"
        }
      ],
      "source": [
        "a[:]\t\t\t\t# The whole array (matrix)."
      ]
    },
    {
      "cell_type": "code",
      "execution_count": null,
      "metadata": {
        "id": "SVUJBA7HhwTy",
        "outputId": "bd8d1a55-7a49-4f29-deaf-6fc9da2d2510"
      },
      "outputs": [
        {
          "data": {
            "text/plain": [
              "array([[1, 2, 3],\n",
              "       [4, 5, 6]])"
            ]
          },
          "execution_count": 10,
          "metadata": {},
          "output_type": "execute_result"
        }
      ],
      "source": [
        "a[:2]\t\t\t\t# From the row 0 to the row 1 (excluding the row 2)."
      ]
    },
    {
      "cell_type": "code",
      "execution_count": null,
      "metadata": {
        "id": "r3yy_fk-hwTz",
        "outputId": "182e0434-978f-46b8-ba54-779affdb9963"
      },
      "outputs": [
        {
          "data": {
            "text/plain": [
              "8"
            ]
          },
          "execution_count": 11,
          "metadata": {},
          "output_type": "execute_result"
        }
      ],
      "source": [
        "a[2][1]\t\t\t# The element from the row 2 and the column 1."
      ]
    },
    {
      "cell_type": "code",
      "execution_count": null,
      "metadata": {
        "id": "hjp5Yr2JhwTz",
        "outputId": "81ad390c-5a68-49e7-b629-d5bde8462a72"
      },
      "outputs": [
        {
          "data": {
            "text/plain": [
              "8"
            ]
          },
          "execution_count": 12,
          "metadata": {},
          "output_type": "execute_result"
        }
      ],
      "source": [
        "a[2, 1]\t\t\t# The same as above."
      ]
    },
    {
      "cell_type": "code",
      "execution_count": null,
      "metadata": {
        "id": "-ueSs9gxhwTz",
        "outputId": "9a1f93ed-98ee-4616-9210-7a2b25a32558"
      },
      "outputs": [
        {
          "data": {
            "text/plain": [
              "array([[1, 2, 3],\n",
              "       [7, 8, 9]])"
            ]
          },
          "execution_count": 13,
          "metadata": {},
          "output_type": "execute_result"
        }
      ],
      "source": [
        "a[[0, 2]]\t\t\t# The rows 0 and 2."
      ]
    },
    {
      "cell_type": "code",
      "execution_count": null,
      "metadata": {
        "id": "3F9oJNNJhwT0",
        "outputId": "57ee10b7-efe2-4faa-9266-1a8ddb037864"
      },
      "outputs": [
        {
          "data": {
            "text/plain": [
              "array([[5, 6],\n",
              "       [8, 9]])"
            ]
          },
          "execution_count": 14,
          "metadata": {},
          "output_type": "execute_result"
        }
      ],
      "source": [
        "a[1:, 1:]\t\t\t# From the row 1 to the end. From the column 1 to the end."
      ]
    },
    {
      "cell_type": "markdown",
      "metadata": {
        "id": "OFsJgDKphwT0"
      },
      "source": [
        "Fancy indexing"
      ]
    },
    {
      "cell_type": "code",
      "execution_count": null,
      "metadata": {
        "id": "Q3m0cwxPhwT0"
      },
      "outputs": [],
      "source": [
        "arr = np.arange(100)\t\t# A sequence from 0 to 99."
      ]
    },
    {
      "cell_type": "code",
      "execution_count": null,
      "metadata": {
        "id": "mqcu_FfWhwT1"
      },
      "outputs": [],
      "source": [
        "arrMask = ((arr % 5) == 0) \t\t# A Boolean array. True if multiple of 5, else False."
      ]
    },
    {
      "cell_type": "code",
      "execution_count": null,
      "metadata": {
        "id": "OC-SNbO3hwT1",
        "outputId": "2b6f9d8e-00b5-47b6-d16b-732dcfe4e0f2"
      },
      "outputs": [
        {
          "data": {
            "text/plain": [
              "array([ 0,  5, 10, 15, 20, 25, 30, 35, 40, 45, 50, 55, 60, 65, 70, 75, 80,\n",
              "       85, 90, 95])"
            ]
          },
          "execution_count": 17,
          "metadata": {},
          "output_type": "execute_result"
        }
      ],
      "source": [
        "arr[arrMask]\t\t\t# Apply fancy indexing."
      ]
    },
    {
      "cell_type": "code",
      "execution_count": null,
      "metadata": {
        "id": "50QhJbshhwT1"
      },
      "outputs": [],
      "source": [
        "arrMask = ( ( (arr % 5) == 0 )  & ( arr >0) )\t# A Boolean array. True if multiple of 5 or 0, else False."
      ]
    },
    {
      "cell_type": "code",
      "execution_count": null,
      "metadata": {
        "id": "mjYNGWQ7hwT1",
        "outputId": "bc49fe7f-024c-4867-d258-4f5beeace99c"
      },
      "outputs": [
        {
          "data": {
            "text/plain": [
              "array([ 5, 10, 15, 20, 25, 30, 35, 40, 45, 50, 55, 60, 65, 70, 75, 80, 85,\n",
              "       90, 95])"
            ]
          },
          "execution_count": 19,
          "metadata": {},
          "output_type": "execute_result"
        }
      ],
      "source": [
        "arr[arrMask]\t\t\t# Apply fancy indexing."
      ]
    },
    {
      "cell_type": "markdown",
      "metadata": {
        "id": "rHcUV83mhwT2"
      },
      "source": [
        "Boolean Indexing"
      ]
    },
    {
      "cell_type": "code",
      "execution_count": null,
      "metadata": {
        "id": "k1znvnyzhwT2"
      },
      "outputs": [],
      "source": [
        "test_a = np.array([1,4,0,2,3,8,9,7])"
      ]
    },
    {
      "cell_type": "code",
      "execution_count": null,
      "metadata": {
        "id": "OS6D1BdUhwT2",
        "outputId": "839866f3-d136-442b-9047-43993a04e81b"
      },
      "outputs": [
        {
          "data": {
            "text/plain": [
              "array([1, 4, 0, 2, 3, 8, 9, 7])"
            ]
          },
          "execution_count": 21,
          "metadata": {},
          "output_type": "execute_result"
        }
      ],
      "source": [
        "test_a"
      ]
    },
    {
      "cell_type": "code",
      "execution_count": null,
      "metadata": {
        "id": "yv48sxkYhwT2"
      },
      "outputs": [],
      "source": [
        "#The boolean value for whether the value is greater or less than 3 among each element in test_a."
      ]
    },
    {
      "cell_type": "code",
      "execution_count": null,
      "metadata": {
        "id": "2PeJofpzhwT3",
        "outputId": "a8374671-72fc-4d8a-874e-d84b317ab286"
      },
      "outputs": [
        {
          "data": {
            "text/plain": [
              "array([False,  True, False, False, False,  True,  True,  True])"
            ]
          },
          "execution_count": 23,
          "metadata": {},
          "output_type": "execute_result"
        }
      ],
      "source": [
        "test_a > 3"
      ]
    },
    {
      "cell_type": "code",
      "execution_count": null,
      "metadata": {
        "id": "PKko3qyDhwT3",
        "outputId": "5cad90f9-266b-47fa-e67e-2fef6dde1098"
      },
      "outputs": [
        {
          "data": {
            "text/plain": [
              "array([4, 8, 9, 7])"
            ]
          },
          "execution_count": 24,
          "metadata": {},
          "output_type": "execute_result"
        }
      ],
      "source": [
        "test_a[test_a>3]"
      ]
    }
  ],
  "metadata": {
    "kernelspec": {
      "display_name": "Python 3 (ipykernel)",
      "language": "python",
      "name": "python3"
    },
    "language_info": {
      "codemirror_mode": {
        "name": "ipython",
        "version": 3
      },
      "file_extension": ".py",
      "mimetype": "text/x-python",
      "name": "python",
      "nbconvert_exporter": "python",
      "pygments_lexer": "ipython3",
      "version": "3.10.11"
    },
    "colab": {
      "provenance": [],
      "include_colab_link": true
    }
  },
  "nbformat": 4,
  "nbformat_minor": 0
}