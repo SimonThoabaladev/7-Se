{
  "cells": [
    {
      "cell_type": "markdown",
      "metadata": {
        "id": "view-in-github",
        "colab_type": "text"
      },
      "source": [
        "<a href=\"https://colab.research.google.com/github/SimonThoabaladev/7-Se/blob/main/8_ex_0107.ipynb\" target=\"_parent\"><img src=\"https://colab.research.google.com/assets/colab-badge.svg\" alt=\"Open In Colab\"/></a>"
      ]
    },
    {
      "cell_type": "markdown",
      "metadata": {
        "id": "bO7LPFKcjHng"
      },
      "source": [
        "# Coding Exercise #0107"
      ]
    },
    {
      "cell_type": "markdown",
      "metadata": {
        "id": "qLYWFy_qjHnk"
      },
      "source": [
        "### 1. Statistics with Pandas:"
      ]
    },
    {
      "cell_type": "code",
      "execution_count": null,
      "metadata": {
        "id": "cTFadZyrjHnl"
      },
      "outputs": [],
      "source": [
        "import pandas as pd\n",
        "import numpy as np\n",
        "import os"
      ]
    },
    {
      "cell_type": "markdown",
      "metadata": {
        "id": "05s_DgIqjHnm"
      },
      "source": [
        "#### 1.1. Read data into a DataFrame:"
      ]
    },
    {
      "cell_type": "code",
      "execution_count": null,
      "metadata": {
        "id": "vTH3DLLkjHnn"
      },
      "outputs": [],
      "source": [
        "# Go to the directory where the data file is located.\n",
        "os.chdir(r'~~')                # Please, replace the path with your own."
      ]
    },
    {
      "cell_type": "code",
      "execution_count": null,
      "metadata": {
        "id": "3-M67pPtjHno"
      },
      "outputs": [],
      "source": [
        "df = pd.read_csv('data_iris.csv', header='infer')"
      ]
    },
    {
      "cell_type": "code",
      "execution_count": null,
      "metadata": {
        "id": "arNpDAfVjHno"
      },
      "outputs": [],
      "source": [
        "df.shape"
      ]
    },
    {
      "cell_type": "code",
      "execution_count": null,
      "metadata": {
        "id": "PaJWse4OjHnp"
      },
      "outputs": [],
      "source": [
        "df.info()"
      ]
    },
    {
      "cell_type": "code",
      "execution_count": null,
      "metadata": {
        "id": "Qm9fssWOjHnp"
      },
      "outputs": [],
      "source": [
        "df.head(3)"
      ]
    },
    {
      "cell_type": "code",
      "execution_count": null,
      "metadata": {
        "id": "cYyCIEXOjHnq"
      },
      "outputs": [],
      "source": [
        "df.tail(3)"
      ]
    },
    {
      "cell_type": "markdown",
      "metadata": {
        "id": "xixQDR50jHnq"
      },
      "source": [
        "#### 1.2. Statistics using DataFrame methods:"
      ]
    },
    {
      "cell_type": "code",
      "execution_count": null,
      "metadata": {
        "id": "SOYYzkgejHnr"
      },
      "outputs": [],
      "source": [
        "# Column averages.\n",
        "df.mean(axis=0)"
      ]
    },
    {
      "cell_type": "code",
      "execution_count": null,
      "metadata": {
        "id": "JuUqRBNNjHnr"
      },
      "outputs": [],
      "source": [
        "# Descriptive statistics.\n",
        "df.describe()"
      ]
    },
    {
      "cell_type": "code",
      "execution_count": null,
      "metadata": {
        "id": "TUfi5Fl2jHns"
      },
      "outputs": [],
      "source": [
        "# Correlation.\n",
        "df.loc[:,'Sepal.Length'].corr(df.loc[:,'Sepal.Width'])"
      ]
    },
    {
      "cell_type": "code",
      "execution_count": null,
      "metadata": {
        "id": "oViZw9majHns"
      },
      "outputs": [],
      "source": [
        "# Correlation.\n",
        "df.loc[:,'Sepal.Length'].corr(df.loc[:,'Petal.Length'])"
      ]
    },
    {
      "cell_type": "code",
      "execution_count": null,
      "metadata": {
        "id": "05YMMUW_jHns"
      },
      "outputs": [],
      "source": [
        "# Correlation matrix.\n",
        "np.round(df.corr(),3)"
      ]
    },
    {
      "cell_type": "code",
      "execution_count": null,
      "metadata": {
        "id": "4WsEQdakjHnt"
      },
      "outputs": [],
      "source": [
        "# Correlation with respect to one variable (column).\n",
        "df.corrwith(df.loc[:,'Petal.Length'])"
      ]
    },
    {
      "cell_type": "markdown",
      "metadata": {
        "id": "XGOLZrphjHnt"
      },
      "source": [
        "#### 1.3. Slice and then apply a statistic method:"
      ]
    },
    {
      "cell_type": "code",
      "execution_count": null,
      "metadata": {
        "id": "HlNDTNaVjHnt"
      },
      "outputs": [],
      "source": [
        "df[df.Species=='setosa'].mean(axis=0)"
      ]
    },
    {
      "cell_type": "code",
      "execution_count": null,
      "metadata": {
        "id": "M5EE5-8yjHnt"
      },
      "outputs": [],
      "source": [
        "df[df.Species=='virginica'].mean(axis=0)"
      ]
    },
    {
      "cell_type": "code",
      "execution_count": null,
      "metadata": {
        "id": "Ace4PvgBjHnu"
      },
      "outputs": [],
      "source": [
        "df[df.Species=='versicolor'].mean(axis=0)"
      ]
    },
    {
      "cell_type": "markdown",
      "metadata": {
        "id": "HfAM2uD1jHnu"
      },
      "source": [
        "Frequency table:"
      ]
    },
    {
      "cell_type": "code",
      "execution_count": null,
      "metadata": {
        "id": "5WuGwxwdjHnu"
      },
      "outputs": [],
      "source": [
        "df.Species.value_counts()"
      ]
    },
    {
      "cell_type": "markdown",
      "metadata": {
        "id": "-hGMUMlujHnu"
      },
      "source": [
        "### 2. Missing values:"
      ]
    },
    {
      "cell_type": "markdown",
      "metadata": {
        "id": "39JlCZ9ojHnv"
      },
      "source": [
        "First of all, we purposefully enter the missing values:"
      ]
    },
    {
      "cell_type": "code",
      "execution_count": null,
      "metadata": {
        "id": "j5BgoJuKjHnv"
      },
      "outputs": [],
      "source": [
        "df.iloc[10,0] = np.nan\n",
        "df.iloc[2,2] = np.nan\n",
        "df.iloc[17,2] = np.nan\n",
        "df.iloc[2,3] = np.nan\n",
        "df.iloc[129,2] = np.nan"
      ]
    },
    {
      "cell_type": "code",
      "execution_count": null,
      "metadata": {
        "id": "aiEWCGnyjHnv"
      },
      "outputs": [],
      "source": [
        "df.head(3)"
      ]
    },
    {
      "cell_type": "markdown",
      "metadata": {
        "id": "g2ILwnC2jHnv"
      },
      "source": [
        "#### 2.1. Statistics of the missing values:"
      ]
    },
    {
      "cell_type": "code",
      "execution_count": null,
      "metadata": {
        "id": "1UKg2ie3jHnv"
      },
      "outputs": [],
      "source": [
        "# Count non-missing values per column.\n",
        "df.count(axis=0)"
      ]
    },
    {
      "cell_type": "code",
      "execution_count": null,
      "metadata": {
        "id": "k6Kh2lSrjHnw"
      },
      "outputs": [],
      "source": [
        "# Calculate the averages skipping the missing values.\n",
        "df.drop(columns='Species').mean(axis=0)                                 # 'Species' column is left out."
      ]
    },
    {
      "cell_type": "code",
      "execution_count": null,
      "metadata": {
        "id": "m3BUab8ijHnw"
      },
      "outputs": [],
      "source": [
        "# Try to calculate the averages without skipping the missing values.  => NaNs appear!\n",
        "df.drop(columns='Species').mean(axis=0, skipna=False)                  # 'Species' column is left out."
      ]
    },
    {
      "cell_type": "markdown",
      "metadata": {
        "id": "N_AbWE7-jHnw"
      },
      "source": [
        "#### 2.2. Detect and process the missing values:"
      ]
    },
    {
      "cell_type": "code",
      "execution_count": null,
      "metadata": {
        "id": "5CgRS9tMjHnw"
      },
      "outputs": [],
      "source": [
        "# Count the missing values per column.\n",
        "(df.isnull()).sum(axis=0)"
      ]
    },
    {
      "cell_type": "code",
      "execution_count": null,
      "metadata": {
        "id": "agOMy8LyjHnx"
      },
      "outputs": [],
      "source": [
        "# Proportion of missing values per column.\n",
        "(df.isnull()).mean(axis=0)"
      ]
    },
    {
      "cell_type": "code",
      "execution_count": null,
      "metadata": {
        "id": "QAgQhJAOjHnx"
      },
      "outputs": [],
      "source": [
        "# Drop the rows with at leat one missing value.\n",
        "df2 = df.dropna(axis=0)"
      ]
    },
    {
      "cell_type": "code",
      "execution_count": null,
      "metadata": {
        "id": "13KUiIbgjHnx"
      },
      "outputs": [],
      "source": [
        "df2.shape"
      ]
    },
    {
      "cell_type": "code",
      "execution_count": null,
      "metadata": {
        "id": "XfzxUw7xjHnx"
      },
      "outputs": [],
      "source": [
        "df2.head(3)"
      ]
    },
    {
      "cell_type": "code",
      "execution_count": null,
      "metadata": {
        "id": "BDBpfg3_jHnx"
      },
      "outputs": [],
      "source": [
        "# Drop the rows with less than 4 normal values.\n",
        "df2 = df.dropna(axis=0, thresh = 4)\n",
        "df2.shape"
      ]
    },
    {
      "cell_type": "code",
      "execution_count": null,
      "metadata": {
        "id": "I3n5NCiYjHnx"
      },
      "outputs": [],
      "source": [
        "# Drop the columns with at least one missing value.\n",
        "df3 = df.dropna(axis=1)\n",
        "df3.shape"
      ]
    },
    {
      "cell_type": "code",
      "execution_count": null,
      "metadata": {
        "id": "x4xaSATNjHny"
      },
      "outputs": [],
      "source": [
        "df3.head(3)"
      ]
    },
    {
      "cell_type": "code",
      "execution_count": null,
      "metadata": {
        "id": "bWM_xjqvjHny"
      },
      "outputs": [],
      "source": [
        "# Drop the columns with less than 149 normal values.\n",
        "df3 = df.dropna(axis=1, thresh = 149)\n",
        "df3.shape"
      ]
    },
    {
      "cell_type": "code",
      "execution_count": null,
      "metadata": {
        "id": "yOySZBWOjHny"
      },
      "outputs": [],
      "source": [
        "df3.head(3)"
      ]
    },
    {
      "cell_type": "markdown",
      "metadata": {
        "id": "Z-4vug5GjHnz"
      },
      "source": [
        "#### 2.3. Fill the missing values:"
      ]
    },
    {
      "cell_type": "code",
      "execution_count": null,
      "metadata": {
        "id": "1psgP-oojHnz"
      },
      "outputs": [],
      "source": [
        "# Fill the missing values with 0.\n",
        "df4 = df.fillna(value=0)\n",
        "df4.count()                         # axis=0 by default."
      ]
    },
    {
      "cell_type": "code",
      "execution_count": null,
      "metadata": {
        "id": "U6EyVcFljHnz"
      },
      "outputs": [],
      "source": [
        "# Fill the missing values using column averages.\n",
        "df['Sepal.Length'] = df['Sepal.Length'].fillna(value=df['Sepal.Length'].mean())\n",
        "df['Petal.Length'] = df['Petal.Length'].fillna(value=df['Petal.Length'].mean())\n",
        "df['Petal.Width'] = df['Petal.Width'].fillna(value=df['Petal.Width'].mean())\n",
        "df.count()                          # axis=0 by default."
      ]
    },
    {
      "cell_type": "code",
      "execution_count": null,
      "metadata": {
        "id": "HFZKwYknjHnz"
      },
      "outputs": [],
      "source": [
        "df.head(3)"
      ]
    },
    {
      "cell_type": "code",
      "execution_count": null,
      "metadata": {
        "id": "3tpyxnZkjHnz"
      },
      "outputs": [],
      "source": []
    }
  ],
  "metadata": {
    "kernelspec": {
      "display_name": "Python 3",
      "language": "python",
      "name": "python3"
    },
    "language_info": {
      "codemirror_mode": {
        "name": "ipython",
        "version": 3
      },
      "file_extension": ".py",
      "mimetype": "text/x-python",
      "name": "python",
      "nbconvert_exporter": "python",
      "pygments_lexer": "ipython3",
      "version": "3.8.8"
    },
    "colab": {
      "provenance": [],
      "include_colab_link": true
    }
  },
  "nbformat": 4,
  "nbformat_minor": 0
}